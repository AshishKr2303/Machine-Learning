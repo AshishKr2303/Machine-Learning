{
 "cells": [
  {
   "cell_type": "code",
   "execution_count": 82,
   "metadata": {},
   "outputs": [
    {
     "name": "stdout",
     "output_type": "stream",
     "text": [
      "Myreduce Function result is: 10\n"
     ]
    }
   ],
   "source": [
    "# MyReduce Function\n",
    "def myreduce(func,itr):\n",
    "    result=itr[0]\n",
    "    for i in itr[1:]:\n",
    "        result=func(result,i)\n",
    "    return result\n",
    "\n",
    "def sum(x,y):\n",
    "    return x+y\n",
    "\n",
    "print(\"Myreduce Function result is:\" , myreduce(sum,[1,2,3,4]))"
   ]
  },
  {
   "cell_type": "code",
   "execution_count": 100,
   "metadata": {},
   "outputs": [
    {
     "name": "stdout",
     "output_type": "stream",
     "text": [
      "Myfilter Function result is: [5, None, 10, 15, None, 20]\n"
     ]
    }
   ],
   "source": [
    "# MyFilter Function\n",
    "def myfilter(func,itr):\n",
    "    result=[]\n",
    "    for i in itr:\n",
    "        rslt=func(i)\n",
    "        result.append(rslt)\n",
    "    return result\n",
    "              \n",
    "        \n",
    "def divby5(x):\n",
    "    \n",
    "    if x%5==0:\n",
    "        return x\n",
    "\n",
    "    \n",
    "\n",
    "print(\"Myfilter Function result is:\" , myfilter(divby5,[5,9,10,15,18,20]))\n",
    "\n"
   ]
  },
  {
   "cell_type": "markdown",
   "metadata": {},
   "source": [
    "List Comprehensions"
   ]
  },
  {
   "cell_type": "code",
   "execution_count": 93,
   "metadata": {},
   "outputs": [
    {
     "name": "stdout",
     "output_type": "stream",
     "text": [
      "['A', 'C', 'A', 'D', 'G', 'I', 'L', 'D']\n"
     ]
    }
   ],
   "source": [
    "lst=[word for word in 'ACADGILD']\n",
    "print(lst)"
   ]
  },
  {
   "cell_type": "code",
   "execution_count": 4,
   "metadata": {},
   "outputs": [
    {
     "name": "stdout",
     "output_type": "stream",
     "text": [
      "['x', 'xx', 'xxx', 'xxxx', 'y', 'yy', 'yyy', 'yyyy', 'z', 'zz', 'zzz', 'zzzz']\n"
     ]
    }
   ],
   "source": [
    "string=['x','y','z']\n",
    "lst=[strn*(i) for strn in string for i in range(1,5)  ]\n",
    "print(lst)"
   ]
  },
  {
   "cell_type": "code",
   "execution_count": 12,
   "metadata": {},
   "outputs": [
    {
     "name": "stdout",
     "output_type": "stream",
     "text": [
      "['x', 'y', 'z', 'xx', 'yy', 'zz', 'xx', 'yy', 'zz', 'xxxx', 'yyyy', 'zzzz']\n"
     ]
    }
   ],
   "source": [
    "string=['x','y','z']\n",
    "lst=[strn*(i) for i in range(1,5) for strn in string if i<=2  ]\n",
    "lst1=[strn*(i) for i in range(1,5) for strn in string if (i==2 or i>3)  ]\n",
    "lst2=lst+lst1\n",
    "print(lst2)"
   ]
  },
  {
   "cell_type": "code",
   "execution_count": 13,
   "metadata": {},
   "outputs": [
    {
     "name": "stdout",
     "output_type": "stream",
     "text": [
      "['x', 'y', 'z', 'xx', 'yy', 'zz', 'xxx', 'yyy', 'zzz', 'xxxx', 'yyyy', 'zzzz']\n"
     ]
    }
   ],
   "source": [
    "string=['x','y','z']\n",
    "lst=[strn*(i) for i in range(1,5) for strn in string  ]\n",
    "print(lst)"
   ]
  },
  {
   "cell_type": "code",
   "execution_count": 30,
   "metadata": {},
   "outputs": [
    {
     "name": "stdout",
     "output_type": "stream",
     "text": [
      "[[2], [3], [4], [3], [4], [5], [4], [5], [6]]\n"
     ]
    }
   ],
   "source": [
    "num=[2,3,4]\n",
    "lst=[[n+i]  for n in num for i in  range(0,3) ]\n",
    "print(lst)"
   ]
  },
  {
   "cell_type": "code",
   "execution_count": 35,
   "metadata": {},
   "outputs": [
    {
     "name": "stdout",
     "output_type": "stream",
     "text": [
      "[[2, 3, 4, 5], [3, 4, 5, 6], [4, 5, 6, 7], [5, 6, 7, 8]]\n"
     ]
    }
   ],
   "source": [
    "num=[2,3,4,5]\n",
    "lst=[[(n+i) for n in num] for i in range(0,4)]\n",
    "print(lst)"
   ]
  },
  {
   "cell_type": "code",
   "execution_count": 43,
   "metadata": {},
   "outputs": [
    {
     "name": "stdout",
     "output_type": "stream",
     "text": [
      "[(1, 1), (2, 1), (3, 1), (1, 2), (2, 2), (3, 2), (1, 3), (2, 3), (3, 3)]\n"
     ]
    }
   ],
   "source": [
    "num=(1,2,3)\n",
    "lst=[(1+i,n) for n in num for i in range(0,3)]\n",
    "print(lst)"
   ]
  },
  {
   "cell_type": "code",
   "execution_count": 18,
   "metadata": {},
   "outputs": [
    {
     "data": {
      "text/plain": [
       "3.799671038392666"
      ]
     },
     "execution_count": 18,
     "metadata": {},
     "output_type": "execute_result"
    }
   ],
   "source": [
    "# Triangle Area using Classes\n",
    "import math\n",
    "class Parent:\n",
    "    \n",
    "    def __init__(self,a,b,c):\n",
    "        \n",
    "        self.a=a\n",
    "        self.b=b\n",
    "        self.c=c\n",
    "        \n",
    "class traingle(Parent):\n",
    "    \n",
    "    def __init__(self,a,b,c):\n",
    "        super().__init__(a,b,c)\n",
    "        \n",
    "        \n",
    "    def trianglearea(self):\n",
    "        s=(self.a+self.b+self.c)/2\n",
    "        area= math.sqrt(s*(s-self.a)*(s-self.b)*(s-self.c))\n",
    "        return area\n",
    "t1=traingle(5,2,4)\n",
    "t1.trianglearea()"
   ]
  },
  {
   "cell_type": "code",
   "execution_count": 64,
   "metadata": {},
   "outputs": [
    {
     "name": "stdout",
     "output_type": "stream",
     "text": [
      "Longest Word is alligator\n"
     ]
    }
   ],
   "source": [
    "# Longest word in a list\n",
    "list1=['cat','lion','tiger','monkey','deer','alligator']\n",
    "def longestWord(lst):\n",
    "    longestword=''\n",
    "    for word in lst:\n",
    "        if len(word)>len(longestword):\n",
    "            longestword=word\n",
    "    return longestword\n",
    "print(\"Longest Word is\", longestWord(list1))\n",
    "\n",
    "            "
   ]
  },
  {
   "cell_type": "code",
   "execution_count": 107,
   "metadata": {},
   "outputs": [
    {
     "name": "stdout",
     "output_type": "stream",
     "text": [
      " Long words greater than n are: ['tiger', 'monkey', 'alligator']\n"
     ]
    }
   ],
   "source": [
    "# Words longer than integer\n",
    "list1=['cat','lion','tiger','monkey','deer','alligator']\n",
    "def filter_long_words(lst,n):\n",
    "    longword=[]\n",
    "    for word in lst:\n",
    "        if len(word)>n:\n",
    "            longword.append(word)\n",
    "    return longword\n",
    "\n",
    "print(\" Long words greater than n are:\",filter_long_words(list1,4))\n",
    "    "
   ]
  },
  {
   "cell_type": "code",
   "execution_count": 108,
   "metadata": {},
   "outputs": [
    {
     "name": "stdout",
     "output_type": "stream",
     "text": [
      "Length of each word in the list is: [3, 4, 5, 6, 4, 9]\n"
     ]
    }
   ],
   "source": [
    "# Length of words\n",
    "list1=['cat','lion','tiger','monkey','deer','alligator']\n",
    "def length(lst):\n",
    "    wordlen=[]\n",
    "    for word in lst:\n",
    "        indvlen=len(word)\n",
    "        wordlen.append(indvlen)\n",
    "    return wordlen\n",
    "print(\"Length of each word in the list is:\",length(list1))"
   ]
  },
  {
   "cell_type": "code",
   "execution_count": 132,
   "metadata": {},
   "outputs": [
    {
     "name": "stdout",
     "output_type": "stream",
     "text": [
      "Entered Character is a Vowel or not: False\n"
     ]
    }
   ],
   "source": [
    "# Determine if the letter is a vowel or not\n",
    "vowel=['a','e','i','o','u']\n",
    "letter='r'\n",
    "def vowels(vow,char):\n",
    "    for v in vow:\n",
    "        if char==v:\n",
    "            return True\n",
    "    return False\n",
    "print(\"Entered Character is a Vowel or not:\" , vowels(vowel,letter))"
   ]
  },
  {
   "cell_type": "code",
   "execution_count": null,
   "metadata": {},
   "outputs": [],
   "source": []
  },
  {
   "cell_type": "code",
   "execution_count": null,
   "metadata": {},
   "outputs": [],
   "source": []
  }
 ],
 "metadata": {
  "kernelspec": {
   "display_name": "Python 3",
   "language": "python",
   "name": "python3"
  },
  "language_info": {
   "codemirror_mode": {
    "name": "ipython",
    "version": 3
   },
   "file_extension": ".py",
   "mimetype": "text/x-python",
   "name": "python",
   "nbconvert_exporter": "python",
   "pygments_lexer": "ipython3",
   "version": "3.7.3"
  }
 },
 "nbformat": 4,
 "nbformat_minor": 2
}
